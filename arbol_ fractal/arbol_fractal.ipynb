{
 "cells": [
  {
   "cell_type": "markdown",
   "metadata": {},
   "source": [
    "# Árbol fractal"
   ]
  },
  {
   "cell_type": "markdown",
   "metadata": {},
   "source": [
    "### Algoritmo"
   ]
  },
  {
   "cell_type": "markdown",
   "metadata": {},
   "source": [
    "Dados dos puntos en el plano ($A$, $B\\in{\\mathbb{R}^2}$), los cuales definen al segmento de recta $\\overline{AB}$, la idea es encontrar dos puntos nuevos ($C$, $D\\in{\\mathbb{R}^2}$) que definirán los segmentos $\\overline{BC}$ y $\\overline{BD}$ cuyo ángulo menor respecto al segmento $\\overline{AB}$ es de $\\alpha$ y $\\beta$ radianes respectivamente, y cuya longitud es \"$\\lambda$-veces\" la del segmento $\\overline{AB}$."
   ]
  },
  {
   "cell_type": "markdown",
   "metadata": {},
   "source": [
    "<img src='https://image.ibb.co/g8V2hQ/a01.png' alt='Imagen no disponible, por favor repórtala para actualizarla. :)'>  "
   ]
  },
  {
   "cell_type": "markdown",
   "metadata": {},
   "source": [
    "Posteriormente, este algoritmo se aplicará a los nuevos segmentos generados $\\overline{BC}$ y $\\overline{BD}$, resultando así 4 nuevos segmentos: $\\overline{CE}$, $\\overline{CF}$, $\\overline{DG}$, $\\overline{DH}$. El proceso seguirá recursivamente cuantas veces se desee."
   ]
  },
  {
   "cell_type": "markdown",
   "metadata": {},
   "source": [
    "<img src='https://image.ibb.co/kbz695/a012.png' alt='Imagen no disponible, por favor repórtala para actualizarla. :)'>  "
   ]
  },
  {
   "cell_type": "markdown",
   "metadata": {},
   "source": [
    "### Cálculo de los puntos $C$ y $D$:"
   ]
  },
  {
   "cell_type": "markdown",
   "metadata": {},
   "source": [
    "Para encontrar el punto $C$ basta con tomar el vector que va del punto $A$ al punto $B$: $(B-A)$, multiplicarlo por una matriz de rotación con un ángulo $\\alpha$, reescalarlo por un factor $\\lambda$, y trasladarlo al punto $B$ mediante la suma de éste:\n",
    "\n",
    "C = $\\lambda\\begin{pmatrix} Cos(\\alpha) & -Sin(\\alpha) \\\\\n",
    "Sin(\\alpha) & Cos(\\alpha) \\end{pmatrix}\\cdot(B-A) + B$\n",
    "\n",
    "De igual manera para el punto $D$, excepto que esta vez el ángulo de la rotación será $\\beta$, e irá con signo negativo para rotar en sentido horario:\n",
    "\n",
    "D = $\\lambda\\begin{pmatrix} Cos(\\beta) & Sin(\\beta) \\\\\n",
    "-Sin(\\beta) & Cos(\\beta) \\end{pmatrix}\\cdot(B-A) + B$\n",
    "\n",
    "NOTA: En la fórmula anterior se aplicaron las identidades  \n",
    "\n",
    "$Cos(\\beta) = Cos(-\\beta)$\n",
    "\n",
    "$Sin(-\\beta) = -Sin(\\beta)$.\n"
   ]
  },
  {
   "cell_type": "markdown",
   "metadata": {},
   "source": [
    "### implementación"
   ]
  },
  {
   "cell_type": "markdown",
   "metadata": {},
   "source": [
    "Se importan las paqueterías que se van a utilizar."
   ]
  },
  {
   "cell_type": "code",
   "execution_count": 2,
   "metadata": {
    "collapsed": true
   },
   "outputs": [],
   "source": [
    "import numpy as np      # Paquetería con herramientas para hacer operaciones matemáticas.\n",
    "from matplotlib import pyplot as plt # Módulo para representación gráfica de datos."
   ]
  },
  {
   "cell_type": "markdown",
   "metadata": {},
   "source": [
    "Se definen las funciones necesarias para la parte gráfica, y para la imlementación del algoritmo:"
   ]
  },
  {
   "cell_type": "code",
   "execution_count": 6,
   "metadata": {
    "collapsed": true
   },
   "outputs": [],
   "source": [
    "\"\"\"\n",
    "linea(A,B)...Dibuja una línea entre los puntos A y B, en color verde. \n",
    "\"\"\"\n",
    "def linea(A, B):\n",
    "\n",
    "    plt.plot( (A[0], B[0]), (A[1], B[1]), color=\"green\" )"
   ]
  },
  {
   "cell_type": "code",
   "execution_count": 4,
   "metadata": {
    "collapsed": true
   },
   "outputs": [],
   "source": [
    "\"\"\"\n",
    "arbol(A, B, α, β, λ, n) ... Algoritmo recursivo que construirá el árbol.\n",
    "\n",
    "Condición inicial: Segmento de recta AB.\n",
    "A = Primer punto que define al segmento de recta que será condición inicial.\n",
    "B = Segundo punto que define al segmento de recta que será condición inicial.\n",
    "α = Ángulo de rotación del segmento BC a dibujar, respecto al segmento AB.\n",
    "β = Ángulo de rotación del segmento BD a dibujar, respecto al segmento AB.\n",
    "λ = Proporción de tamaño de los segmentos a dibujar, respecto al segmento que se usa como \n",
    "    condición inicial.\n",
    "n = Nivel de recursión.\n",
    "\"\"\"\n",
    "\n",
    "def arbol(A, B, α, β, λ, n):\n",
    "    \n",
    "    # Se transforman los puntos \"A\" y \"B\" a Numpy Arrays, para realizar operaciones entre vectores.\n",
    "    A = np.array(A)     \n",
    "    B = np.array(B)\n",
    "    \n",
    "    # Se dibuja el segmento de recta entre los puntos A y B utilizando la función que se creo anteriormente.\n",
    "    linea(A, B)      \n",
    "    \n",
    "    # Si  el nivel de recursión \"n\" es mayor a cero se calcula la posición de los puntos C y D...\n",
    "    # ...para crear los segmentos del siguiente nivel de recursión.\n",
    "    if n > 0:         \n",
    "        \n",
    "        C = B + λ*np.dot( [[np.cos(α), -np.sin(α)], [np.sin(α), np.cos(α)]] , B - A )\n",
    "        D = B + λ*np.dot( [[np.cos(β), np.sin(β)], [-np.sin(β), np.cos(β)]] , B - A )\n",
    "        \n",
    "        # Se aplica el algoritmo recursivamente. Esta vez la condición inicial estará dada por los...\n",
    "        # ...nuevos puntos calculados (C y D)  y el punto B.\n",
    "        arbol(B, C, α, β, λ, n-1)    \n",
    "        arbol(B, D, α, β, λ, n-1)    \n",
    "        # Debe notarse que al aplicarse el algoritmo a los nuevos puntos...\n",
    "        # ... se hace con un nivel de recursión menor. es decir \"n-1\"."
   ]
  },
  {
   "cell_type": "markdown",
   "metadata": {},
   "source": [
    "##### Implementación"
   ]
  },
  {
   "cell_type": "code",
   "execution_count": 8,
   "metadata": {
    "collapsed": false
   },
   "outputs": [],
   "source": [
    "# Se define un figura nueva, con fondo blanco, y tamaño 10x10 pulgadas.\n",
    "fig = plt.figure(figsize=(10,10), facecolor=\"white\")\n",
    "\n",
    "# Lienzo dentro de la figura, donde se dibujará directamente el árbol.\n",
    "ax = fig.add_subplot(111)                                  \n",
    "\n",
    "# Definición de parámetros y condiciones iniciales.\n",
    "A = (0, 0)\n",
    "B = (0, 1)\n",
    "α = np.pi/8\n",
    "β = np.pi/6\n",
    "λ = 0.8\n",
    "n = 9\n",
    "\n",
    "# Se corre el algoritmo recursivo.\n",
    "arbol(A, B, α, β, λ, n)\n",
    "\n",
    "\n",
    "ax.axis(\"square\")                                  # Configura la misma escala en dirección horizontal y vertical.\n",
    "ax.axis(\"off\")                                     # Desactiva los ejes coordenados.\n",
    "fig.tight_layout()                                 # Ajusta el tamaño del dibujo a la imagen.\n",
    "plt.show()                                         # Muestra la imagen final"
   ]
  },
  {
   "cell_type": "code",
   "execution_count": 9,
   "metadata": {
    "collapsed": true
   },
   "outputs": [],
   "source": [
    "fig.savefig(\"arbol_fractal.png\", facecolor=fig.get_facecolor())        # Guarda el resultado en un archivo \".png\""
   ]
  },
  {
   "cell_type": "markdown",
   "metadata": {},
   "source": [
    "<img src='https://image.ibb.co/gjjv2Q/arbol_fractal.png' alt='Imagen no disponible, por favor repórtala para actualizarla. :)'>  "
   ]
  },
  {
   "cell_type": "markdown",
   "metadata": {},
   "source": [
    "## \"Tunneando\" el árbol"
   ]
  },
  {
   "cell_type": "markdown",
   "metadata": {},
   "source": [
    "Esta vez se hace uso de la herramienta **Path**, de la paquetería ***Matplotlob***, para un dibujo más eficiente de los segmentos de línea. También se integra a la función **linea** un control automático del color y grosor de los segmentos dibujados, dependiendo el nivel de recursión en el que se encuentren. Esto dará un aspecto más natural al árbol."
   ]
  },
  {
   "cell_type": "markdown",
   "metadata": {},
   "source": [
    "#### Se importan las herramientas necesarias"
   ]
  },
  {
   "cell_type": "code",
   "execution_count": 19,
   "metadata": {
    "collapsed": true
   },
   "outputs": [],
   "source": [
    "from matplotlib.path import Path     # Herramienta para dibujar segmentos de rectas, dados un conjunto de puntos.\n",
    "import matplotlib.patches as patches # Herramienta necesaria para poder dibujar los segmentos de rectas sobre una imagen."
   ]
  },
  {
   "cell_type": "markdown",
   "metadata": {},
   "source": [
    "#### Herramienta Path"
   ]
  },
  {
   "cell_type": "markdown",
   "metadata": {},
   "source": [
    "El uso de la herramienta **Path** requiere de dos tipos de datos de entrada:\n",
    "\n",
    "1) Un conjunto de vértices\n",
    "\n",
    "   - Conjunto de arreglos, o tuplas bidimensionales con las coordenadas de cada punto necesario para crear los segmentos de recta.\n",
    "   \n",
    "2) Un conjunto de instrucciones\n",
    "\n",
    "   - Se pueden codificar mediante números. En el caso de los segmentos de recta sólo son necesarias 2 instrucciones:  \n",
    "   \n",
    "   \n",
    "        - Posicionar el pincel en un punto del lienzo (esta instrucción se representa con el número 1).\n",
    "   \n",
    "        - Dibujar una recta hacia el punto indicado (esta instrucción se representa con el número 2).\n",
    " "
   ]
  },
  {
   "cell_type": "markdown",
   "metadata": {},
   "source": [
    "#### Control del grosor de los segmentos de recta"
   ]
  },
  {
   "cell_type": "markdown",
   "metadata": {},
   "source": [
    "Para controlar el grosor de los segmentos de recta en cada nivel de recursión se puede definir una función matemática que dependa de 4 parámetros: \n",
    "\n",
    "   - $G_{min}$: Grosor mínimo.\n",
    "    \n",
    "   - $G_{max}$: Grosor máximo.\n",
    "    \n",
    "   - $n_{max}$: Nivel máximo de recursión.\n",
    "\n",
    "   - $n$: Nivel actual de recursión.\n",
    "\n",
    "En este caso se usará una función cuadrática (se eligió cuadrática con base en prueba y error):\n",
    "\n",
    "### $Grosor( G_{min}, G_{max}, n_{max}, n ) = G_{min} + (G_{max} - G_{min})\\cdot (\\frac{n}{n_{max}})^2$"
   ]
  },
  {
   "cell_type": "code",
   "execution_count": 13,
   "metadata": {
    "collapsed": true
   },
   "outputs": [],
   "source": [
    "\"\"\"\n",
    "linea_path(A,B,n)...Dibuja una línea entre los puntos A y B, \n",
    "modificando el grosor y colores dependiendo el nivel de recursión \"n\".\n",
    "\"\"\"\n",
    "def linea_path(A, B, n):\n",
    "\n",
    "    # Se le indica a Python que las variables g_min, g_max y n_max serán definidas afuera de la función.\n",
    "    global g_min, g_max, n_max\n",
    "    \n",
    "    # Primero se posiciona el pincel en el punto A, posteriormente se dibuja un segmento de recta hacia el punto B.\n",
    "    vertices = [A, B]\n",
    "    instrucciones = [1, 2]                \n",
    "    \n",
    "    # Se crea un objeto \"Path\" con los puntos e instrucciones para dibujar el  segmento de recta.\n",
    "    segmento_instrucciones = Path(vertices, instrucciones) \n",
    "\n",
    "    # Elección del color dependiendo el nivel de recursión actual.\n",
    "    if 4 > n: \n",
    "        colores = np.random.rand(3,1)     # Los últimos 3 niveles serán de colores aleatorios, codificados en RGB.\n",
    "    else:\n",
    "        colores = \"#c0c0c0\"               # El resto de niveles será \"plateado\", codificado en sistema HEX.\n",
    "\n",
    "    \n",
    "    # Cálculo del grosor\n",
    "    grosor = g_min + (g_max - g_min)*(n/n_max)**2    \n",
    "\n",
    "    # Se crea un objeto \"PathPatch\" utilizando el objeto \"Path\" creado en la línea 15...\n",
    "    # ... el cual contiene la información necesaria para crear los segmentos.\n",
    "    #  También se configuran los parámetros de color y grosor con los calculados previamente.\n",
    "    recta = patches.PathPatch(segmento_instrucciones, edgecolor=colores, facecolor=\"none\", lw=grosor)\n",
    "    \n",
    "    ax.add_patch(recta)          # Se agrega el segmento creado al lienzo llamado \"ax\"."
   ]
  },
  {
   "cell_type": "markdown",
   "metadata": {
    "collapsed": true
   },
   "source": [
    "\n",
    "Se define una nueva función **arbol_path**, idéntica a la ya creada arriba bajo el nombre **arbol**, excepto que utilizará la función **línea_path** para crear los segmentos y modificar sus atributos dependiendo el nivel de recursión."
   ]
  },
  {
   "cell_type": "code",
   "execution_count": 17,
   "metadata": {
    "collapsed": true
   },
   "outputs": [],
   "source": [
    "\"\"\"\n",
    "arbol_path(A, B, α, β, λ, n) ... Algoritmo recursivo que construirá el árbol implementando la función \"línea_path\".\n",
    "\n",
    "Condición inicial: Segmento de recta AB.\n",
    "A = Primer punto que define al segmento de recta que será condición inicial.\n",
    "B = Segundo punto que define al segmento de recta que será condición inicial.\n",
    "α = Ángulo de rotación del segmento BC a dibujar, respecto al segmento AB.\n",
    "β = Ángulo de rotación del segmento BD a dibujar, respecto al segmento AB.\n",
    "λ = Proporción de tamaño de los segmentos a dibujar, respecto al segmento que se usa como condición inicial.\n",
    "n = Nivel de recursión.\n",
    "\"\"\"\n",
    "\n",
    "def arbol_path(A, B, α, β, λ, n):\n",
    "    \n",
    "    # Se transforman los puntos \"A\" y \"B\" a Numpy Arrays, para realizar operaciones entre vectores.\n",
    "    A = np.array(A)     \n",
    "    B = np.array(B)\n",
    "    \n",
    "    # Se dibuja el segmento de recta entre los puntos A y B utilizando la función que se creo anteriormente.\n",
    "    linea_path(A, B, n)      \n",
    "    \n",
    "    # Si  el nivel de recursión \"n\" es mayor a cero se calcula la posición de los puntos C y D...\n",
    "    # ...para crear los segmentos del siguiente nivel de recursión.\n",
    "    if n > 0:         \n",
    "        \n",
    "        C = B + λ*np.dot( [[np.cos(α), -np.sin(α)], [np.sin(α), np.cos(α)]] , B - A )\n",
    "        D = B + λ*np.dot( [[np.cos(β), np.sin(β)], [-np.sin(β), np.cos(β)]] , B - A )\n",
    "        \n",
    "        # Se aplica el algoritmo recursivamente. Esta vez la condición inicial estará dada por los...\n",
    "        # ...nuevos puntos calculados (C y D)  y el punto B.\n",
    "        arbol_path(B, C, α, β, λ, n-1)    \n",
    "        arbol_path(B, D, α, β, λ, n-1)    \n",
    "        # Debe notarse que al aplicarse el algoritmo a los nuevos puntos...\n",
    "        # ... se hace con un nivel de recursión menor. es decir \"n-1\"."
   ]
  },
  {
   "cell_type": "markdown",
   "metadata": {},
   "source": [
    "#### Implementación  con Path + control de grosor y color."
   ]
  },
  {
   "cell_type": "code",
   "execution_count": 20,
   "metadata": {
    "collapsed": false
   },
   "outputs": [],
   "source": [
    "# Se define un figura nueva, con fondo negro, y tamaño 10x10 pulgadas.\n",
    "fig = plt.figure(figsize=(10,10), facecolor=\"black\")\n",
    "\n",
    "# Lienzo dentro de la figura, donde se dibujará directamente el árbol.\n",
    "ax = fig.add_subplot(111)                                  \n",
    "\n",
    "# Definición de parámetros\n",
    "A = (0, 0)\n",
    "B = (0, 1)\n",
    "α = np.pi/8\n",
    "β = np.pi/6\n",
    "λ = 0.8\n",
    "n = 9\n",
    "\n",
    "#Se le asignan valores a los parámetros para el control del grosor:\n",
    "g_min = 1.5 ; g_max = 20 ; n_max = 10\n",
    "\n",
    "# Se corre el algoritmo recursivo.\n",
    "arbol_path(A, B, α, β, λ, n)\n",
    "\n",
    "\n",
    "ax.axis(\"square\")                                  # Configura la misma escala en dirección horizontal y vertical.\n",
    "ax.axis(\"off\")                                     # Desactiva los ejes coordenados.\n",
    "fig.tight_layout()                                 # Ajusta el tamaño del dibujo a la imagen.\n",
    "plt.show()                                         # Muestra la imagen final"
   ]
  },
  {
   "cell_type": "code",
   "execution_count": 21,
   "metadata": {
    "collapsed": true
   },
   "outputs": [],
   "source": [
    "fig.savefig(\"arbol_fractal_tunneado.png\", facecolor=fig.get_facecolor())   # Guarda el resultado en un archivo \".png\""
   ]
  },
  {
   "cell_type": "markdown",
   "metadata": {},
   "source": [
    "<img src='https://image.ibb.co/f4bWbk/arbol_fractal_tunneado.png' alt='Imagen no disponible, por favor repórtala para actualizarla. :)'>  "
   ]
  },
  {
   "cell_type": "markdown",
   "metadata": {},
   "source": [
    "#### Siguiendo las mismas ideas, se pueden generar distintos tipos de fractales basados  en algoritmos recursivos, aquí un par de ejemplos:"
   ]
  },
  {
   "cell_type": "markdown",
   "metadata": {},
   "source": [
    "## Rama de helecho"
   ]
  },
  {
   "cell_type": "markdown",
   "metadata": {},
   "source": [
    "<img src='https://image.ibb.co/ew13p5/hoja.png' alt='Imagen no disponible, por favor repórtala para actualizarla. :)'>  "
   ]
  },
  {
   "cell_type": "markdown",
   "metadata": {},
   "source": [
    "#### Hint: Debes modificar la función *árbol* (o *path_árbol*) para agregar un nuevo parámetro que indique el número de ramificaciones que se generarán a partir de una condición inicial, lo cuál puedes controlar con la introducción de un ciclo for dentro de la función. \n"
    "Supongamos el parámetro se llama **k**. \n"
    "for i in range(k): \n"
    "    ...Código que le indique cómo va a dibujar las ramificaciones...\n\n"
    "Para darle más realismo puedes pedir que modifique el ángulo de acuerdo a la 'altura' en la que se encuentran las ramas, experimentar con distintas distribuciones de las ramas a lo largo de la condición inicial, etc."
   ]
  },
  {
   "cell_type": "markdown",
   "metadata": {},
   "source": [
    "## Copo de Von Koch"
   ]
  },
  {
   "cell_type": "markdown",
   "metadata": {},
   "source": [
    "###  Condición inicial  "
   ]
  },
  {
   "cell_type": "markdown",
   "metadata": {},
   "source": [
    "<img src='https://image.ibb.co/e83Bbk/V_0.png' alt='Imagen no disponible, por favor repórtala para actualizarla. :)'>  "
   ]
  },
  {
   "cell_type": "markdown",
   "metadata": {},
   "source": [
    "###  Nivel de recursión: 1  "
   ]
  },
  {
   "cell_type": "markdown",
   "metadata": {},
   "source": [
    "<img src='https://image.ibb.co/cBm8NQ/V_1.png' alt='Imagen no disponible, por favor repórtala para actualizarla. :)'>  "
   ]
  },
  {
   "cell_type": "markdown",
   "metadata": {},
   "source": [
    "###  Nivel de recursión: 2  "
   ]
  },
  {
   "cell_type": "markdown",
   "metadata": {},
   "source": [
    "<img src='https://image.ibb.co/nwejwk/V_2.png' alt='Imagen no disponible, por favor repórtala para actualizarla. :)'>  "
   ]
  },
  {
   "cell_type": "markdown",
   "metadata": {},
   "source": [
    "###  Nivel de recursión: 3  "
   ]
  },
  {
   "cell_type": "markdown",
   "metadata": {},
   "source": [
    "<img src='https://image.ibb.co/dsMWbk/V_3.png' alt='Imagen no disponible, por favor repórtala para actualizarla. :)'>  "
   ]
  },
  {
   "cell_type": "markdown",
   "metadata": {},
   "source": [
    " ### Nivel de recursión: 4  "
   ]
  },
  {
   "cell_type": "markdown",
   "metadata": {},
   "source": [
    "<img src='https://image.ibb.co/di6xGk/V_4.png' alt='Imagen no disponible, por favor repórtala para actualizarla. :)'>  "
   ]
  },
  {
   "cell_type": "markdown",
   "metadata": {},
   "source": [
    " ### Cualquier duda o sugerencia no dudes en contactarme a través de la plataforma github: https://github.com/LuisCanalesPy , o al correo lgco@comunidad.unam.mx "
   ]
  },
  {
   "cell_type": "markdown",
   "metadata": {},
   "source": [
    " ### Recuerda...Experto no es el que no se equivoca, sino el que más veces lo ha hecho...la práctica hace al maestro."
   ]
  },
  {
   "cell_type": "markdown",
   "metadata": {},
   "source": [
    " ## Para volver a la página principal del repositorio, da clic [aquí](https://github.com/LuisCanalesPy/Python-Ciencia-Arte/)."
   ]
  }
 ],
 "metadata": {
  "kernelspec": {
   "display_name": "Python 3",
   "language": "python",
   "name": "python3"
  },
  "language_info": {
   "codemirror_mode": {
    "name": "ipython",
    "version": 3
   },
   "file_extension": ".py",
   "mimetype": "text/x-python",
   "name": "python",
   "nbconvert_exporter": "python",
   "pygments_lexer": "ipython3",
   "version": "3.5.1"
  }
 },
 "nbformat": 4,
 "nbformat_minor": 0
}
